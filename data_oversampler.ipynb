{
 "cells": [
  {
   "cell_type": "code",
   "execution_count": 2,
   "metadata": {},
   "outputs": [
    {
     "name": "stdout",
     "output_type": "stream",
     "text": [
      "[ 3  9  8 14]\n",
      "[1 1 1 6 6 6 6 6 6 6 6 5 5 5 5 5 5 5 5 5 8 8 8 8 8 8 8 8 8 8 8 8 8 8]\n"
     ]
    }
   ],
   "source": [
    "\n",
    "import torch\n",
    "\n",
    "from torch.utils.data import DataLoader, WeightedRandomSampler, TensorDataset\n",
    "\n",
    "import numpy as np\n",
    "\n",
    "\n",
    "\n",
    "\n",
    "targets = []\n",
    "\n",
    "annotations = []\n",
    "\n",
    "# Open the file in read mode\n",
    "\n",
    "with open('/Users/eddie/Trauma_THOMPSON/Trauma_THOMPSON/new_dataset/annotations_realism_improvised_train.txt', 'r') as file:\n",
    "\n",
    "   # Read each line in the file\n",
    "\n",
    "   for line in file:\n",
    "\n",
    "       # Print each line\n",
    "\n",
    "       file_name, frame_num, label = line.split('\t')\n",
    "\n",
    "       targets.append(label)\n",
    "\n",
    "       annotations.append(line)\n",
    "\n",
    "targets = np.array(targets).astype('int')\n",
    "\n",
    "annotations_idx = np.array(list(range(len(targets))))\n",
    "\n",
    "\n",
    "class_sample_count = np.array([len(np.where(targets == t)[0]) for t in np.unique(targets)])\n",
    "print(class_sample_count)\n",
    "\n",
    "#3,5,6,8\n",
    "weight = [0,0,0,0,0,0,0,0,0,0]\n",
    "# weight[1] = 1/class_sample_count[0]\n",
    "weight[3] = 1/class_sample_count[0]\n",
    "weight[5] = 1/class_sample_count[1]\n",
    "weight[6] = 1/class_sample_count[2]\n",
    "weight[8] = 1/class_sample_count[3]\n",
    "# weight = 1. / class_sample_count\n",
    "\n",
    "print(targets)\n",
    "\n",
    "samples_weight = np.array([weight[int(t)] for t in targets])\n",
    "\n",
    "\n",
    "samples_weight = torch.Tensor(samples_weight)\n",
    "\n",
    "sampler = WeightedRandomSampler(samples_weight, int(max(class_sample_count)*len(class_sample_count)))\n",
    "\n",
    "data = targets\n",
    "\n",
    "train_dataset = TensorDataset(torch.Tensor(annotations_idx), torch.Tensor(targets))\n",
    "\n",
    "\n",
    "\n",
    "\n",
    "train_dataloader = DataLoader(train_dataset, batch_size=1, sampler=sampler)\n",
    "\n",
    "\n",
    "\n",
    "\n",
    "with open('../new_dataset/annotations_realism_improvised_train_balanced.txt', 'w') as file:\n",
    "\n",
    "   for batch_data, batch_target in train_dataloader:\n",
    "\n",
    "       file.writelines(annotations[int(batch_data.tolist()[0])])"
   ]
  }
 ],
 "metadata": {
  "kernelspec": {
   "display_name": "openmmlab",
   "language": "python",
   "name": "python3"
  },
  "language_info": {
   "codemirror_mode": {
    "name": "ipython",
    "version": 3
   },
   "file_extension": ".py",
   "mimetype": "text/x-python",
   "name": "python",
   "nbconvert_exporter": "python",
   "pygments_lexer": "ipython3",
   "version": "3.11.9"
  }
 },
 "nbformat": 4,
 "nbformat_minor": 2
}
